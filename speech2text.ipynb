{
  "cells": [
    {
      "cell_type": "code",
      "execution_count": 1,
      "metadata": {
        "colab": {
          "base_uri": "https://localhost:8080/"
        },
        "id": "1dkDWhLVbglF",
        "outputId": "bb2870e4-c6e5-456a-94cc-ab6785439e4b"
      },
      "outputs": [
        {
          "name": "stdout",
          "output_type": "stream",
          "text": [
            "Mounted at /content/drive\n"
          ]
        }
      ],
      "source": [
        "import os\n",
        "from google.colab import drive\n",
        "drive.mount('/content/drive')"
      ]
    },
    {
      "cell_type": "code",
      "execution_count": 2,
      "metadata": {
        "colab": {
          "base_uri": "https://localhost:8080/"
        },
        "id": "tjWrpUr5eXnX",
        "outputId": "27c64bf4-cf9f-4a16-fce5-7a228ed0cab4"
      },
      "outputs": [
        {
          "name": "stdout",
          "output_type": "stream",
          "text": [
            "Looking in indexes: https://pypi.org/simple, https://us-python.pkg.dev/colab-wheels/public/simple/\n",
            "Collecting SpeechRecognition\n",
            "  Downloading SpeechRecognition-3.10.0-py2.py3-none-any.whl (32.8 MB)\n",
            "\u001b[2K     \u001b[90m━━━━━━━━━━━━━━━━━━━━━━━━━━━━━━━━━━━━━━━━\u001b[0m \u001b[32m32.8/32.8 MB\u001b[0m \u001b[31m37.1 MB/s\u001b[0m eta \u001b[36m0:00:00\u001b[0m\n",
            "\u001b[?25hRequirement already satisfied: requests>=2.26.0 in /usr/local/lib/python3.10/dist-packages (from SpeechRecognition) (2.27.1)\n",
            "Requirement already satisfied: urllib3<1.27,>=1.21.1 in /usr/local/lib/python3.10/dist-packages (from requests>=2.26.0->SpeechRecognition) (1.26.15)\n",
            "Requirement already satisfied: certifi>=2017.4.17 in /usr/local/lib/python3.10/dist-packages (from requests>=2.26.0->SpeechRecognition) (2022.12.7)\n",
            "Requirement already satisfied: charset-normalizer~=2.0.0 in /usr/local/lib/python3.10/dist-packages (from requests>=2.26.0->SpeechRecognition) (2.0.12)\n",
            "Requirement already satisfied: idna<4,>=2.5 in /usr/local/lib/python3.10/dist-packages (from requests>=2.26.0->SpeechRecognition) (3.4)\n",
            "Installing collected packages: SpeechRecognition\n",
            "Successfully installed SpeechRecognition-3.10.0\n"
          ]
        }
      ],
      "source": [
        "!pip install SpeechRecognition"
      ]
    },
    {
      "attachments": {},
      "cell_type": "markdown",
      "metadata": {},
      "source": [
        "1~6까지 conf 출력"
      ]
    },
    {
      "cell_type": "code",
      "execution_count": null,
      "metadata": {},
      "outputs": [],
      "source": [
        "import moviepy.editor as mp\n",
        "import speech_recognition as sr\n",
        "import os\n",
        "import random\n",
        "\n",
        "def extract_text_from_video(video_file):\n",
        "    # 오디오 추출\n",
        "    video = mp.VideoFileClip(video_file)\n",
        "    audio = video.audio.write_audiofile(\"audio.wav\", verbose=False)\n",
        "\n",
        "    # 음성 인식 객체 생성\n",
        "    recognizer = sr.Recognizer()\n",
        "\n",
        "    # 음성 파일 로드\n",
        "    with sr.AudioFile(\"audio.wav\") as source:\n",
        "        # 음성을 오디오 데이터로 변환\n",
        "        audio = recognizer.record(source)\n",
        "\n",
        "    try:\n",
        "        # Google Speech Recognition을 이용하여 음성을 텍스트로 변환\n",
        "        text = recognizer.recognize_google(audio)\n",
        "        return text\n",
        "    except sr.UnknownValueError:\n",
        "        print(\"음성을 인식할 수 없습니다.\")\n",
        "    except sr.RequestError as e:\n",
        "        print(f\"음성 인식에 실패했습니다: {e}\")\n",
        "\n",
        "# 비디오 파일이 있는 폴더 경로 설정\n",
        "folder_path = '/content/drive/MyDrive/asac/DL_project/new'\n",
        "\n",
        "# 폴더 내의 모든 mp4 파일에 대해 처리\n",
        "for filename in os.listdir(folder_path):\n",
        "    if filename.endswith('.mp4'):\n",
        "        video_file = os.path.join(folder_path, filename)\n",
        "        output_file = os.path.join(folder_path, os.path.splitext(filename)[0] + '.txt')\n",
        "\n",
        "        # 비디오 파일에서 텍스트 추출\n",
        "        result = extract_text_from_video(video_file)\n",
        "\n",
        "        # 추출된 텍스트를 파일로 저장\n",
        "        if result is not None:  # 파일 확인\n",
        "            random_conf = random.randint(1, 6)  # 랜덤한 숫자 생성\n",
        "            text_to_save = f\"Text: {result}\\nconf: {random_conf}\"  # 텍스트와 랜덤한 숫자를 포맷팅하여 저장할 문자열 생성\n",
        "\n",
        "            with open(output_file, 'w') as file:\n",
        "                file.write(text_to_save)\n",
        "        else:\n",
        "            print(\"텍스트가 없습니다.\")\n"
      ]
    },
    {
      "cell_type": "code",
      "execution_count": null,
      "metadata": {},
      "outputs": [],
      "source": []
    },
    {
      "cell_type": "code",
      "execution_count": null,
      "metadata": {
        "id": "KfxhftJyilkg"
      },
      "outputs": [],
      "source": []
    },
    {
      "attachments": {},
      "cell_type": "markdown",
      "metadata": {
        "id": "pLE59cgugRrD"
      },
      "source": [
        "text 파일 추가 후 mp4 파일만 있고 txt 파일이 없는 경우 mp4 삭제"
      ]
    },
    {
      "cell_type": "code",
      "execution_count": 4,
      "metadata": {
        "colab": {
          "base_uri": "https://localhost:8080/"
        },
        "id": "ygFVOqS2gNOp",
        "outputId": "0e82e981-00d5-48c6-a77b-f7f757615903"
      },
      "outputs": [
        {
          "name": "stdout",
          "output_type": "stream",
          "text": [
            "Removed: fBnAMUkNM2k_0-10.mp4\n"
          ]
        }
      ],
      "source": [
        "folder_path = '/content/drive/MyDrive/asac/DL_project/new'\n",
        "\n",
        "# 폴더 안의 파일 목록을 가져옵니다.\n",
        "files = os.listdir(folder_path)\n",
        "\n",
        "# mp4 파일과 txt 파일의 파일명을 저장할 빈 리스트를 생성.\n",
        "mp4_files = []\n",
        "txt_files = []\n",
        "\n",
        "# 파일 목록을 반복하면서 mp4 파일과 txt 파일을 구분.\n",
        "for file in files:\n",
        "    if file.endswith('.mp4'):\n",
        "        mp4_files.append(file)\n",
        "    elif file.endswith('.txt'):\n",
        "        txt_files.append(file)\n",
        "\n",
        "# mp4 파일과 txt 파일의 이름이 동일한 경우, txt 파일이 없으면 해당 mp4 파일을 제거.\n",
        "for mp4_file in mp4_files:\n",
        "    corresponding_txt_file = mp4_file[:-4] + '.txt'\n",
        "    if corresponding_txt_file not in txt_files:\n",
        "        mp4_file_path = os.path.join(folder_path, mp4_file)\n",
        "        os.remove(mp4_file_path)\n",
        "        print(f'Removed: {mp4_file}')\n"
      ]
    },
    {
      "attachments": {},
      "cell_type": "markdown",
      "metadata": {},
      "source": [
        "파일명 list "
      ]
    },
    {
      "cell_type": "code",
      "execution_count": 6,
      "metadata": {
        "colab": {
          "base_uri": "https://localhost:8080/"
        },
        "id": "5qU9F4gxi59I",
        "outputId": "49b62d39-cd5f-4aa7-9d7e-fdc58b267163"
      },
      "outputs": [
        {
          "name": "stdout",
          "output_type": "stream",
          "text": [
            "File names saved to: /content/drive/MyDrive/asac/DL_project/new1/filenames.txt\n"
          ]
        }
      ],
      "source": [
        "# 추출할 파일명 경로\n",
        "source_folder = '/content/drive/MyDrive/asac/DL_project/new'\n",
        "# 생성할 폴더 위치\n",
        "destination_folder = '/content/drive/MyDrive/asac/DL_project/new1'\n",
        "# 생성할 txt 파일명\n",
        "output_file = 'filenames.txt'\n",
        "\n",
        "# 폴더 안의 파일 목록 가져오기\n",
        "files = os.listdir(source_folder)\n",
        "\n",
        "# 확장자를 제외한 파일명 추출.\n",
        "file_names = [os.path.splitext(file)[0] for file in files]\n",
        "\n",
        "# 중복된 파일명 제거\n",
        "file_names = list(set(file_names))\n",
        "\n",
        "# 파일 list 폴더에 txt 파일을 생성하고 파일명 목록을 저장.\n",
        "output_path = os.path.join(destination_folder, output_file)\n",
        "with open(output_path, 'w') as file:\n",
        "    file.write('\\n'.join(file_names))\n",
        "\n",
        "print(f'File names saved to: {output_path}')\n"
      ]
    },
    {
      "cell_type": "code",
      "execution_count": null,
      "metadata": {},
      "outputs": [],
      "source": [
        "parent_folder = r'C:\\Users\\NT550\\Desktop\\ASAC\\DL project\\code'  # 텍스트 파일이 있는 폴더 경로\n",
        "\n",
        "for foldername in os.listdir(parent_folder):\n",
        "    folder_path = os.path.join(parent_folder, foldername)\n",
        "    # 추출할 파일명 경로\n",
        "    source_folder = folder_path\n",
        "    # 생성할 폴더 위치\n",
        "    destination_folder = '/content/drive/MyDrive/asac/DL_project/new1'\n",
        "    # 생성할 txt 파일명\n",
        "    output_file = 'filenames.txt'\n",
        "\n",
        "    # 폴더 안의 파일 목록 가져오기\n",
        "    files = os.listdir(source_folder)\n",
        "\n",
        "    # 확장자를 제외한 파일명 추출.\n",
        "    file_names = [os.path.splitext(file)[0] for file in files]\n",
        "\n",
        "    # 중복된 파일명 제거\n",
        "    file_names = list(set(file_names))\n",
        "\n",
        "    # 파일 list 폴더에 txt 파일을 생성하고 파일명 목록을 저장.\n",
        "    output_path = os.path.join(destination_folder, output_file)\n",
        "    with open(output_path, 'w') as file:\n",
        "        file.write('\\n'.join(file_names))\n",
        "\n",
        "    print(f'File names saved to: {output_path}')\n"
      ]
    }
  ],
  "metadata": {
    "colab": {
      "provenance": []
    },
    "kernelspec": {
      "display_name": "Python 3",
      "name": "python3"
    },
    "language_info": {
      "name": "python"
    }
  },
  "nbformat": 4,
  "nbformat_minor": 0
}
