{
  "nbformat": 4,
  "nbformat_minor": 0,
  "metadata": {
    "colab": {
      "provenance": []
    },
    "kernelspec": {
      "name": "python3",
      "display_name": "Python 3"
    },
    "language_info": {
      "name": "python"
    }
  },
  "cells": [
    {
      "cell_type": "markdown",
      "source": [
        "하위 폴더 생성 및 오디오 주파수 변환"
      ],
      "metadata": {
        "id": "1jozygsGg9N5"
      }
    },
    {
      "cell_type": "code",
      "execution_count": null,
      "metadata": {
        "id": "Hom3sw46XBli"
      },
      "outputs": [],
      "source": [
        "from pydub import AudioSegment\n",
        "import os\n",
        "\n",
        "input_file_paths = [\n",
        "    '/root/facetts/data/lrs3/wav/trainval/1QvLB4yEHsI/00054.wav',\n",
        "    '/root/facetts/data/lrs3/wav/trainval/1QvL2B4yEHsI/00034.wav',\n",
        "    '/root/facetts/data/lrs3/wav/trainval/1QvLB4yEHsI/00052.wav',\n",
        "    '/root/facetts/data/lrs3/wav/trainval/1TAuuyvIZjA/00003.wav',\n",
        "    '/root/facetts/data/lrs3/wav/trainval/1TAuuyvIZjA/00002.wav'\n",
        "]\n",
        "\n",
        "output_directory = '/root/facetts/data/lrs3/wav/test'\n",
        "# 변경할 주파수\n",
        "new_sample_rate = 44100\n",
        "\n",
        "for input_file_path in input_file_paths:\n",
        "    audio = AudioSegment.from_file(input_file_path, format=\"wav\")\n",
        "    changed_audio = audio.set_frame_rate(new_sample_rate)\n",
        "\n",
        "    # 하위 폴더 생성\n",
        "    file_directory = os.path.dirname(input_file_path)\n",
        "    subdirectory_name = os.path.basename(file_directory)\n",
        "    output_subdirectory = os.path.join(output_directory, subdirectory_name)\n",
        "    os.makedirs(output_subdirectory, exist_ok=True)\n",
        "\n",
        "    # 새로운 파일 경로 생성\n",
        "    file_name = os.path.basename(input_file_path)\n",
        "    output_file_path = os.path.join(output_subdirectory, file_name)\n",
        "\n",
        "    # 변경된 파일 저장\n",
        "    changed_audio.export(output_file_path, format=\"wav\")"
      ]
    }
  ]
}