{
  "cells": [
    {
      "attachments": {},
      "cell_type": "markdown",
      "metadata": {
        "id": "fhpLpX1oxB_E"
      },
      "source": [
        "오디오 파일 추출 후 새폴더에 저장"
      ]
    },
    {
      "cell_type": "code",
      "execution_count": null,
      "metadata": {
        "id": "mj1TVoFxxBJ1"
      },
      "outputs": [],
      "source": [
        "import moviepy.editor as mp\n",
        "import os\n",
        "\n",
        "# 비디오 파일에서 오디오 추출 및 저장\n",
        "def extract_audio_from_video(video_file, output_folder):\n",
        "    video = mp.VideoFileClip(video_file)\n",
        "    audio = video.audio\n",
        "    audio_file = os.path.join(output_folder, os.path.splitext(os.path.basename(video_file))[0] + '.wav')\n",
        "    audio.write_audiofile(audio_file, codec='pcm_s16le')\n",
        "\n",
        "# 비디오 파일이 있는 폴더 경로 설정\n",
        "folder_path = '/content/drive/MyDrive/asac/DL_project/new'\n",
        "\n",
        "# 오디오를 저장할 폴더 경로 설정\n",
        "output_folder = '/content/drive/MyDrive/asac/DL_project/wav'\n",
        "\n",
        "# 폴더가 없으면 생성\n",
        "os.makedirs(output_folder, exist_ok=True)\n",
        "\n",
        "# 폴더 내의 모든 mp4 파일에 대해 처리\n",
        "for filename in os.listdir(folder_path):\n",
        "    if filename.endswith('.mp4'):\n",
        "        video_file = os.path.join(folder_path, filename)\n",
        "\n",
        "        # 비디오 파일에서 오디오 추출 및 저장\n",
        "        extract_audio_from_video(video_file, output_folder)\n",
        "\n",
        "print(\"오디오 추출 및 저장이 완료되었습니다.\")"
      ]
    }
  ],
  "metadata": {
    "colab": {
      "provenance": []
    },
    "kernelspec": {
      "display_name": "Python 3",
      "name": "python3"
    },
    "language_info": {
      "name": "python"
    }
  },
  "nbformat": 4,
  "nbformat_minor": 0
}
