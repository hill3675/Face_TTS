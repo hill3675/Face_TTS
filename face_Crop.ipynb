{
  "cells": [
    {
      "attachments": {},
      "cell_type": "markdown",
      "metadata": {
        "id": "7oEeGGcizakM"
      },
      "source": [
        "구글드라이브 마운트"
      ]
    },
    {
      "cell_type": "code",
      "execution_count": 5,
      "metadata": {
        "id": "dWuAoVupzSJa"
      },
      "outputs": [
        {
          "ename": "ModuleNotFoundError",
          "evalue": "No module named 'google'",
          "output_type": "error",
          "traceback": [
            "\u001b[0;31m---------------------------------------------------------------------------\u001b[0m",
            "\u001b[0;31mModuleNotFoundError\u001b[0m                       Traceback (most recent call last)",
            "\u001b[1;32m/Users/hwangjong-won/Desktop/DL/code/수집 및 전처리/face_Crop.ipynb 셀 2\u001b[0m line \u001b[0;36m2\n\u001b[1;32m      <a href='vscode-notebook-cell:/Users/hwangjong-won/Desktop/DL/code/%EC%88%98%EC%A7%91%20%EB%B0%8F%20%EC%A0%84%EC%B2%98%EB%A6%AC/face_Crop.ipynb#W1sZmlsZQ%3D%3D?line=0'>1</a>\u001b[0m \u001b[39mimport\u001b[39;00m \u001b[39mos\u001b[39;00m\n\u001b[0;32m----> <a href='vscode-notebook-cell:/Users/hwangjong-won/Desktop/DL/code/%EC%88%98%EC%A7%91%20%EB%B0%8F%20%EC%A0%84%EC%B2%98%EB%A6%AC/face_Crop.ipynb#W1sZmlsZQ%3D%3D?line=1'>2</a>\u001b[0m \u001b[39mfrom\u001b[39;00m \u001b[39mgoogle\u001b[39;00m\u001b[39m.\u001b[39;00m\u001b[39mcolab\u001b[39;00m \u001b[39mimport\u001b[39;00m drive\n\u001b[1;32m      <a href='vscode-notebook-cell:/Users/hwangjong-won/Desktop/DL/code/%EC%88%98%EC%A7%91%20%EB%B0%8F%20%EC%A0%84%EC%B2%98%EB%A6%AC/face_Crop.ipynb#W1sZmlsZQ%3D%3D?line=2'>3</a>\u001b[0m drive\u001b[39m.\u001b[39mmount(\u001b[39m'\u001b[39m\u001b[39m/content/drive\u001b[39m\u001b[39m'\u001b[39m)\n",
            "\u001b[0;31mModuleNotFoundError\u001b[0m: No module named 'google'"
          ]
        }
      ],
      "source": [
        "import os\n",
        "from google.colab import drive\n",
        "drive.mount('/content/drive')"
      ]
    },
    {
      "attachments": {},
      "cell_type": "markdown",
      "metadata": {
        "id": "QnnMGvKFzflb"
      },
      "source": [
        "영상에서 얼굴 인식 후 사이즈에 맞게 자르기"
      ]
    },
    {
      "cell_type": "code",
      "execution_count": 8,
      "metadata": {
        "id": "yBLr1e-yzTwq"
      },
      "outputs": [],
      "source": [
        "import cv2\n",
        "import dlib\n",
        "import os\n",
        "from moviepy.editor import *\n",
        "\n",
        "# 얼굴 인식기 초기화\n",
        "detector = dlib.get_frontal_face_detector()\n",
        "\n",
        "# 폴더 경로 설정\n",
        "folder_path = '/Users/hwangjong-won/Desktop/DL/testset/_D3HIqX1OVk/' # 크롭할 파일들이 모여있는 경로입니당\n",
        "\n",
        "# 출력 동영상 경로 설정\n",
        "output_folder = '/Users/hwangjong-won/Desktop/DL/testset/facecrop/' # 크롭하고 난 파일들을 따로 한번에 모아둘 경로입니당~\n",
        "os.makedirs(output_folder, exist_ok=True)\n",
        "\n",
        "# 폴더 내의 모든 동영상 파일에 대해 처리\n",
        "for folder_name in os.listdir(folder_path):\n",
        "    folder_dir = os.path.join(folder_path, folder_name)\n",
        "    if not os.path.isdir(folder_dir):\n",
        "        continue\n",
        "\n",
        "    for filename in os.listdir(folder_dir):\n",
        "        if not filename.endswith('.mp4'):\n",
        "            continue\n",
        "\n",
        "        video_path = os.path.join(folder_dir, filename)\n",
        "        cap = cv2.VideoCapture(video_path)\n",
        "\n",
        "        width = int(cap.get(cv2.CAP_PROP_FRAME_WIDTH))\n",
        "        height = int(cap.get(cv2.CAP_PROP_FRAME_HEIGHT))\n",
        "        fps = int(cap.get(cv2.CAP_PROP_FPS))\n",
        "\n",
        "        # 출력 동영상 설정\n",
        "        out_filename = f'{filename}.mp4'   # 출력 동영상 이름 입니당\n",
        "        out_temp_filename = 'temp.mp4'  # 예비 파일이니 파일명 신경 xx\n",
        "\n",
        "        out = cv2.VideoWriter(out_temp_filename, cv2.VideoWriter_fourcc(*'mp4v'), fps, (width, height))\n",
        "\n",
        "        # 오디오 파일 추출\n",
        "        audio = AudioFileClip(video_path)\n",
        "\n",
        "        while True:\n",
        "            # 프레임 읽기\n",
        "            ret, frame = cap.read()\n",
        "\n",
        "            if not ret:\n",
        "                break\n",
        "\n",
        "            # 얼굴 인식\n",
        "            gray = cv2.cvtColor(frame, cv2.COLOR_BGR2GRAY)\n",
        "            faces = detector(gray)\n",
        "\n",
        "            # 얼굴이 인식되지 않은 경우, 전체 영상을 출력\n",
        "            if len(faces) == 0:\n",
        "                out.write(frame)\n",
        "                continue\n",
        "\n",
        "            # 중앙 얼굴 찾기\n",
        "            center_x = width // 2\n",
        "            center_y = height // 2\n",
        "\n",
        "            min_distance = float('inf')  # 최소 거리 초기화\n",
        "            selected_face = None\n",
        "\n",
        "            for face in faces:\n",
        "                # 얼굴의 중심 좌표 계산\n",
        "                face_center_x = face.left() + face.width() // 2\n",
        "                face_center_y = face.top() + face.height() // 2\n",
        "\n",
        "                # 중심 좌표와의 거리 계산\n",
        "                distance = ((center_x - face_center_x) ** 2) + ((center_y - face_center_y) ** 2)\n",
        "\n",
        "                if distance < min_distance:\n",
        "                    min_distance = distance\n",
        "                    selected_face = face\n",
        "\n",
        "            if selected_face is None:\n",
        "                # 얼굴이 인식되지 않은 경우,  pass\n",
        "                # out.write(frame)\n",
        "                continue\n",
        "\n",
        "            # 중앙 얼굴 영역 잘라내기\n",
        "            x, y, w, h = selected_face.left(), selected_face.top(), selected_face.width(), selected_face.height()\n",
        "            x -= 40  # 좌측 여유 공간 추가\n",
        "            y -= 40  # 상단 여유 공간 추가\n",
        "            w += 60  # 우측 여유 공간 추가\n",
        "            h += 60  # 하단 여유 공간 추가\n",
        "\n",
        "            try:\n",
        "                # 잘라낸 얼굴 영역 출력\n",
        "                face_img = frame[y:y+h, x:x+w]\n",
        "\n",
        "                # 원본 크기로 사이즈 늘리기\n",
        "                face_resized = cv2.resize(face_img, (width, height))\n",
        "\n",
        "                # 출력 동영상에 추가\n",
        "                out.write(face_resized)\n",
        "            except cv2.error:\n",
        "                # 이미지 크기 조정 오류 발생 시, pass하고 다음 프레임으로 넘어감\n",
        "                pass\n",
        "\n",
        "        # 동영상 종료\n",
        "        cap.release()\n",
        "        out.release()\n",
        "\n",
        "        # # 임시 출력 동영상과 오디오 합성\n",
        "        # video_temp = VideoFileClip(out_temp_filename)\n",
        "        # final_video = video_temp.set_audio(audio)\n",
        "\n",
        "        # # 경로에 저장\n",
        "        # output_path = os.path.join(output_folder, out_filename)\n",
        "        # final_video.write_videofile(output_path, codec='libx264')\n",
        "\n",
        "        # # 임시 파일 삭제\n",
        "        # video_temp.close()\n",
        "        # os.remove(out_temp_filename)\n",
        "        \n",
        "        \n",
        "        try:\n",
        "            video_temp = VideoFileClip(out_temp_filename)\n",
        "            final_video = video_temp.set_audio(audio)\n",
        "\n",
        "            # 경로에 저장\n",
        "            output_path = os.path.join(output_folder, out_filename)\n",
        "            final_video.write_videofile(output_path, codec='libx264')\n",
        "        except OSError as e:\n",
        "            print(f\"An error occurred while processing the video: {e}\")\n",
        "        finally:\n",
        "            # 임시 파일 삭제\n",
        "            if os.path.exists(out_temp_filename):\n",
        "                os.remove(out_temp_filename)\n",
        "\n",
        "\n",
        "\n"
      ]
    },
    {
      "cell_type": "code",
      "execution_count": null,
      "metadata": {
        "id": "o6taptVsV5Rk"
      },
      "outputs": [],
      "source": []
    }
  ],
  "metadata": {
    "colab": {
      "provenance": []
    },
    "kernelspec": {
      "display_name": "Python 3",
      "name": "python3"
    },
    "language_info": {
      "codemirror_mode": {
        "name": "ipython",
        "version": 3
      },
      "file_extension": ".py",
      "mimetype": "text/x-python",
      "name": "python",
      "nbconvert_exporter": "python",
      "pygments_lexer": "ipython3",
      "version": "3.10.13"
    }
  },
  "nbformat": 4,
  "nbformat_minor": 0
}
